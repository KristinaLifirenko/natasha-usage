{
 "cells": [
  {
   "cell_type": "code",
   "execution_count": 1,
   "metadata": {},
   "outputs": [
    {
     "name": "stdout",
     "output_type": "stream",
     "text": [
      "········\n"
     ]
    }
   ],
   "source": [
    "%run -n main.py\n",
    "USER = 'alexanderkuk'\n",
    "PASS = get_pass()\n",
    "AUTH = (USER, PASS)"
   ]
  },
  {
   "cell_type": "code",
   "execution_count": 2,
   "metadata": {},
   "outputs": [
    {
     "name": "stdout",
     "output_type": "stream",
     "text": [
      "Total: 395\n"
     ]
    }
   ],
   "source": [
    "q = gh_q(\n",
    "    '\"from yargy\" OR \"import yargy\" OR \"from natasha\" OR \"import natasha\"',\n",
    "    extensions=('py', 'ipynb'),\n",
    ")\n",
    "url = gh_search_code_url(q)\n",
    "response, data = call_gh(url, AUTH, TEXT_MATCH)\n",
    "total = parse_serp_total(data)\n",
    "print('Total:', total)"
   ]
  },
  {
   "cell_type": "code",
   "execution_count": 3,
   "metadata": {},
   "outputs": [
    {
     "name": "stdout",
     "output_type": "stream",
     "text": [
      "Page #: 1 To do: 13\n",
      "Page #: 2 To do: 12\n",
      "Page #: 3 To do: 11\n",
      "Page #: 4 To do: 10\n",
      "Page #: 5 To do: 9\n",
      "Ban\n",
      "Page #: 5 To do: 9\n",
      "Page #: 6 To do: 8\n",
      "Page #: 7 To do: 7\n",
      "Page #: 8 To do: 6\n",
      "Page #: 9 To do: 5\n",
      "Page #: 10 To do: 4\n",
      "Page #: 11 To do: 3\n",
      "Page #: 12 To do: 2\n",
      "Page #: 13 To do: 1\n",
      "Page #: 14 To do: 0\n",
      "Ban\n",
      "Page #: 14 To do: 0\n",
      "CPU times: user 446 ms, sys: 55.3 ms, total: 501 ms\n",
      "Wall time: 3min 30s\n"
     ]
    }
   ],
   "source": [
    "%%time\n",
    "serp = []\n",
    "pages = list(get_pages(total))\n",
    "while pages:\n",
    "    page = pages.pop(0)\n",
    "    print('Page #:', page, 'To do:', len(pages))\n",
    "    url = gh_search_code_url(q, page=page)\n",
    "    response, data = call_gh(url, AUTH, headers=TEXT_MATCH)\n",
    "    if is_broken(data):\n",
    "        print('Ban')\n",
    "        pages.insert(0, page)\n",
    "        sleep(60)\n",
    "    else:\n",
    "        serp.extend(parse_serp(data))\n",
    "        sleep(5)"
   ]
  },
  {
   "cell_type": "code",
   "execution_count": 4,
   "metadata": {},
   "outputs": [
    {
     "name": "stdout",
     "output_type": "stream",
     "text": [
      "In cache: 395 New: 0\n"
     ]
    }
   ],
   "source": [
    "cache = set(load_lines(URLS))\n",
    "urls = {get_serp_record_url(_) for _ in serp}\n",
    "print('In cache:', len(cache & urls), 'New:', len(urls - cache))"
   ]
  },
  {
   "cell_type": "code",
   "execution_count": 5,
   "metadata": {
    "scrolled": false
   },
   "outputs": [],
   "source": [
    "pattern = '(yargy|natasha)'\n",
    "for record in serp:\n",
    "    url = get_serp_record_url(record)\n",
    "    if url in cache:\n",
    "        continue\n",
    "    print(url)\n",
    "    for text in record.matches:\n",
    "        spans = get_spans(text, pattern)\n",
    "        show_markup(text, spans)"
   ]
  },
  {
   "cell_type": "code",
   "execution_count": 6,
   "metadata": {},
   "outputs": [],
   "source": [
    "dump_lines(sorted(cache | urls), URLS)"
   ]
  },
  {
   "cell_type": "code",
   "execution_count": null,
   "metadata": {},
   "outputs": [],
   "source": []
  }
 ],
 "metadata": {
  "kernelspec": {
   "display_name": "Python 3",
   "language": "python",
   "name": "python3"
  },
  "language_info": {
   "codemirror_mode": {
    "name": "ipython",
    "version": 3
   },
   "file_extension": ".py",
   "mimetype": "text/x-python",
   "name": "python",
   "nbconvert_exporter": "python",
   "pygments_lexer": "ipython3",
   "version": "3.5.1"
  }
 },
 "nbformat": 4,
 "nbformat_minor": 2
}
